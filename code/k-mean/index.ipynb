{
 "cells": [
  {
   "cell_type": "code",
   "execution_count": 1,
   "metadata": {},
   "outputs": [],
   "source": [
    "import os\n",
    "import cv2\n",
    "import numpy as np\n",
    "from sklearn.cluster import KMeans\n",
    "from sklearn.metrics import confusion_matrix, accuracy_score\n",
    "from sklearn.preprocessing import StandardScaler\n"
   ]
  },
  {
   "cell_type": "code",
   "execution_count": 2,
   "metadata": {},
   "outputs": [],
   "source": [
    "def load_images_from_folder(folder):\n",
    "    images = []\n",
    "    labels = []\n",
    "    for filename in os.listdir(folder):\n",
    "        img = cv2.imread(os.path.join(folder, filename))\n",
    "        if img is not None:\n",
    "            img = cv2.resize(img, (64, 64))  # Resize to reduce computation\n",
    "            img = img.flatten()  # Flatten the image\n",
    "            images.append(img)\n",
    "            if 'cat' in folder:\n",
    "                labels.append(0)  # Label for cat\n",
    "            elif 'dog' in folder:\n",
    "                labels.append(1)  # Label for dog\n",
    "    return images, labels"
   ]
  },
  {
   "cell_type": "code",
   "execution_count": 3,
   "metadata": {},
   "outputs": [],
   "source": [
    "# Load training data\n",
    "train_cat_folder = 'D:/UIT/nam3/hk2/khaithacdulieu/project/final_project/dataset/train/cat'\n",
    "train_dog_folder = 'D:/UIT/nam3/hk2/khaithacdulieu/project/final_project/dataset/train/dog'\n",
    "train_images_cat, train_labels_cat = load_images_from_folder(train_cat_folder)\n",
    "train_images_dog, train_labels_dog = load_images_from_folder(train_dog_folder)"
   ]
  },
  {
   "cell_type": "code",
   "execution_count": 7,
   "metadata": {},
   "outputs": [],
   "source": [
    "train_images = train_images_cat + train_images_dog\n",
    "train_labels = train_labels_cat + train_labels_dog"
   ]
  },
  {
   "cell_type": "code",
   "execution_count": 8,
   "metadata": {},
   "outputs": [],
   "source": [
    "# Convert to numpy arrays\n",
    "train_images = np.array(train_images)\n",
    "train_labels = np.array(train_labels)"
   ]
  },
  {
   "cell_type": "code",
   "execution_count": 9,
   "metadata": {},
   "outputs": [],
   "source": [
    "# Normalize the data\n",
    "scaler = StandardScaler()\n",
    "train_images = scaler.fit_transform(train_images)"
   ]
  },
  {
   "cell_type": "code",
   "execution_count": 10,
   "metadata": {},
   "outputs": [],
   "source": [
    "# Apply K-means clustering\n",
    "kmeans = KMeans(n_clusters=2, random_state=0)\n",
    "kmeans.fit(train_images)\n",
    "train_clusters = kmeans.labels_"
   ]
  },
  {
   "cell_type": "code",
   "execution_count": 11,
   "metadata": {},
   "outputs": [],
   "source": [
    "# Load test data\n",
    "test_cat_folder = 'D:/UIT/nam3/hk2/khaithacdulieu/project/final_project/dataset/test/cat'\n",
    "test_dog_folder = 'D:/UIT/nam3/hk2/khaithacdulieu/project/final_project/dataset/test/dog'\n",
    "test_images_cat, test_labels_cat = load_images_from_folder(test_cat_folder)\n",
    "test_images_dog, test_labels_dog = load_images_from_folder(test_dog_folder)"
   ]
  },
  {
   "cell_type": "code",
   "execution_count": 12,
   "metadata": {},
   "outputs": [],
   "source": [
    "test_images = test_images_cat + test_images_dog\n",
    "test_labels = test_labels_cat + test_labels_dog"
   ]
  },
  {
   "cell_type": "code",
   "execution_count": 13,
   "metadata": {},
   "outputs": [],
   "source": [
    "# Convert to numpy arrays\n",
    "test_images = np.array(test_images)\n",
    "test_labels = np.array(test_labels)"
   ]
  },
  {
   "cell_type": "code",
   "execution_count": 14,
   "metadata": {},
   "outputs": [],
   "source": [
    "# Normalize the data\n",
    "test_images = scaler.transform(test_images)"
   ]
  },
  {
   "cell_type": "code",
   "execution_count": 15,
   "metadata": {},
   "outputs": [],
   "source": [
    "\n",
    "# Predict clusters for test data\n",
    "test_clusters = kmeans.predict(test_images)"
   ]
  },
  {
   "cell_type": "code",
   "execution_count": 16,
   "metadata": {},
   "outputs": [
    {
     "name": "stdout",
     "output_type": "stream",
     "text": [
      "Confusion Matrix:\n",
      "[[1099  901]\n",
      " [1025  975]]\n",
      "Accuracy Score: 0.5185\n"
     ]
    }
   ],
   "source": [
    "# Evaluate the result\n",
    "# Adjust the predicted labels to match the original labels\n",
    "# Assuming cluster 0 is for cats and cluster 1 is for dogs\n",
    "adjusted_test_clusters = np.copy(test_clusters)\n",
    "if np.sum(adjusted_test_clusters == test_labels) < len(test_labels) / 2:\n",
    "    adjusted_test_clusters = 1 - adjusted_test_clusters\n",
    "\n",
    "print(\"Confusion Matrix:\")\n",
    "print(confusion_matrix(test_labels, adjusted_test_clusters))\n",
    "print(\"Accuracy Score:\", accuracy_score(test_labels, adjusted_test_clusters))"
   ]
  }
 ],
 "metadata": {
  "kernelspec": {
   "display_name": "Python 3",
   "language": "python",
   "name": "python3"
  },
  "language_info": {
   "codemirror_mode": {
    "name": "ipython",
    "version": 3
   },
   "file_extension": ".py",
   "mimetype": "text/x-python",
   "name": "python",
   "nbconvert_exporter": "python",
   "pygments_lexer": "ipython3",
   "version": "3.12.3"
  }
 },
 "nbformat": 4,
 "nbformat_minor": 2
}
